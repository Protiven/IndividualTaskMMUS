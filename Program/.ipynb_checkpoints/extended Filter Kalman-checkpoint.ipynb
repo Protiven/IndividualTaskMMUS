{
 "cells": [
  {
   "cell_type": "markdown",
   "metadata": {},
   "source": [
    "## Инициализация"
   ]
  },
  {
   "cell_type": "code",
   "execution_count": 2,
   "metadata": {},
   "outputs": [],
   "source": [
    "import numpy as np\n",
    "import math as mth\n",
    "\n",
    "dt = 0.001\n",
    "N = 50000\n",
    "t = np.empty(N)\n",
    "\n",
    "f = lambda x, t: np.array([x[0] + 1000 * x[1] * t,\n",
    "                           x[1] + mth.sin(t*10000)])\n",
    "\n",
    "df = lambda x, t: np.array([[1, t],\n",
    "                           [0, 1]])\n",
    "\n",
    "h = lambda x: np.array([x[0]])\n",
    "\n",
    "dh = lambda x: np.array([[1, 0]])\n",
    "\n",
    "G = np.array([0, 0.01])\n",
    "\n",
    "Q = 50\n",
    "\n",
    "R = np.matrix([[50]])\n",
    "\n",
    "\n",
    "x_1 = np.empty(2)\n",
    "P_1 = np.zeros((2, 2))\n",
    "filterMassive = np.zeros((N, 2))\n",
    "\n",
    "x_0 = np.array([0, 2])\n",
    "P_0 = np.array([[1000 , 0],\n",
    "                [0, 1000]])"
   ]
  },
  {
   "cell_type": "code",
   "execution_count": 3,
   "metadata": {
    "scrolled": false
   },
   "outputs": [],
   "source": [
    "import random as rnd\n",
    "\n",
    "# Генерация зашумленного сенсора\n",
    "istina = np.empty(N)\n",
    "istina[0] = h(x_0) \n",
    "y = np.empty(N)\n",
    "t[0] = 0\n",
    "y[0] = h(x_0) \n",
    "x_i = x_0\n",
    "x_ist = x_0\n",
    "for i in range(1, N):\n",
    "    t[i] = dt * i\n",
    "    \n",
    "    # Для построения настоящих значений сенсора\n",
    "    x_k_1 = np.array(f(x_i, dt)) + np.array(G) * np.random.normal(0, Q) # + с возмущением системы\n",
    "    y[i] = h(np.array(f(x_i, dt))) + np.random.normal(0, R) # c шумом от сенсора\n",
    "    x_i = x_k_1\n",
    "    \n",
    "    \n",
    "    # Для построения истинных значений сенсора\n",
    "    x_istina = np.array(f(x_ist, dt))\n",
    "    istina[i] = h(np.array(f(x_ist, dt)))\n",
    "    x_ist = x_istina"
   ]
  },
  {
   "cell_type": "markdown",
   "metadata": {},
   "source": [
    "## Расширенный фильтр Калмана"
   ]
  },
  {
   "cell_type": "code",
   "execution_count": null,
   "metadata": {},
   "outputs": [],
   "source": [
    "def customFlatten(z):\n",
    "    l = np.empty(len(z))\n",
    "    for i in range(len(z)):\n",
    "        l[i] = float(z[i][0])\n",
    "    return l\n",
    "\n",
    "def predict(f, df, t, x_k, P_k, G_k = np.matrix([[0]]), Q_k = np.matrix([[0]])):\n",
    "    x_k_1 = f(x_k, t)\n",
    "    P_k_1 = df(x_k, t).dot(P_k).dot(df(x_k, t).T) + (G_k * Q_k).dot(G_k.T) \n",
    "    return x_k_1, P_k_1\n",
    "    \n",
    "\n",
    "def update(x_k, z_k_1, h, P_k, dH, R_k_1 = np.matrix([[0]])):\n",
    "    Kk_1 = P_k.dot(dH(x_k).T) * np.linalg.inv(dH(x_k).dot(P_k).dot(dH(x_k).T) + R_k_1)  \n",
    "    P_k_1 = (np.diag(np.ones(len(x_k))) - Kk_1 * dH(x_k)) * P_k   \n",
    "    x_k_1 = x_k.T + (Kk_1 * (z_k_1 - h(x_k))).T\n",
    "    return customFlatten(x_k_1.T), P_k_1, np.linalg.norm(Kk_1)\n",
    "\n",
    "x = x_0\n",
    "P = P_0\n",
    "\n",
    "filterMassive[0] = x_0\n",
    "gain = np.empty(N)\n",
    "gain[0] = 0\n",
    "\n",
    "for i in range(1, N):\n",
    "    x_k, P_k = predict(f, df, dt, x, P, G, Q)\n",
    "    x_1, P_1, gain[i] = update(x_k, y[i], h, P_k, dh, R)\n",
    "    \n",
    "    x = x_1\n",
    "    P = P_1\n",
    "    filterMassive[i] = x_1\n",
    "\n",
    "filt_y = []\n",
    "for i in range(0, N):\n",
    "    filt_y.append(h(filterMassive[i]))"
   ]
  },
  {
   "cell_type": "markdown",
   "metadata": {},
   "source": [
    "# Results"
   ]
  },
  {
   "cell_type": "code",
   "execution_count": null,
   "metadata": {},
   "outputs": [],
   "source": [
    "import matplotlib.pyplot as plt\n",
    "fig, ax = plt.subplots()\n",
    "\n",
    "filtr = np.empty(N)\n",
    "for i in range(N):\n",
    "    filtr[i] = filt_y[i]\n",
    "    \n",
    "plt.grid()\n",
    "plt.plot(t, filtr - y)"
   ]
  },
  {
   "cell_type": "code",
   "execution_count": null,
   "metadata": {},
   "outputs": [],
   "source": [
    "plt.grid()\n",
    "plt.plot(t, gain)"
   ]
  },
  {
   "cell_type": "code",
   "execution_count": null,
   "metadata": {},
   "outputs": [],
   "source": [
    "fig, ax = plt.subplots(1, 1, figsize=(6,4), dpi = 500)\n",
    "plt.grid()\n",
    "plt.plot(t, filtr, 'r', label='Filter signal', linewidth = 1)\n",
    "plt.plot(t, y, 'b',label='signal', linewidth = 0.4)\n",
    "plt.plot(t, istina, 'g', label='real value', linewidth = 1)\n",
    "ax.legend()\n",
    "plt.show()"
   ]
  },
  {
   "cell_type": "code",
   "execution_count": null,
   "metadata": {
    "scrolled": true
   },
   "outputs": [],
   "source": [
    "np.linalg.norm(y - istina) / np.linalg.norm(istina)"
   ]
  },
  {
   "cell_type": "code",
   "execution_count": null,
   "metadata": {},
   "outputs": [],
   "source": [
    "np.linalg.norm(filtr - istina) / np.linalg.norm(istina)"
   ]
  },
  {
   "cell_type": "code",
   "execution_count": null,
   "metadata": {},
   "outputs": [],
   "source": []
  },
  {
   "cell_type": "code",
   "execution_count": null,
   "metadata": {},
   "outputs": [],
   "source": []
  }
 ],
 "metadata": {
  "kernelspec": {
   "display_name": "Python 3",
   "language": "python",
   "name": "python3"
  },
  "language_info": {
   "codemirror_mode": {
    "name": "ipython",
    "version": 3
   },
   "file_extension": ".py",
   "mimetype": "text/x-python",
   "name": "python",
   "nbconvert_exporter": "python",
   "pygments_lexer": "ipython3",
   "version": "3.8.3"
  }
 },
 "nbformat": 4,
 "nbformat_minor": 4
}
