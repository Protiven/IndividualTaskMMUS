{
 "cells": [
  {
   "cell_type": "markdown",
   "metadata": {},
   "source": [
    "## Инициализация"
   ]
  },
  {
   "cell_type": "code",
   "execution_count": 132,
   "metadata": {},
   "outputs": [],
   "source": [
    "import numpy as np\n",
    "\n",
    "dt = 0.5\n",
    "N = 60\n",
    "t = np.empty(N)\n",
    "\n",
    "f = lambda x, t: np.matrix([[x[0] + x[1] * t + 4 * t**2/2, x[1] + 4 * t , x[2] + x[3] * t + 5 * t**2/2, x[3] + 5 * t]])\n",
    "\n",
    "df = lambda x, t: np.matrix([[1, t, 0, 0], [0, 1, 0, 0], [0, 0, 1, t], [0, 0, 0, 1]])\n",
    "\n",
    "h = lambda x: np.matrix([[x[0] + x[2]]])\n",
    "\n",
    "dh = lambda x: np.matrix([[1, 0, 1, 0]])\n",
    "\n",
    "G = np.matrix([[0.87, 0.05, 1.23, 0.05]])\n",
    "\n",
    "Q = np.matrix([[3]])\n",
    "\n",
    "R = np.matrix([[2]])\n",
    "\n",
    "\n",
    "x_1 = np.empty(4)\n",
    "P_1 = np.zeros((4, 4))\n",
    "filterMassive = np.zeros((N, 4))\n",
    "\n",
    "x_0 = np.array([0, 0, 0, 0])\n",
    "P_0 = np.matrix([[20, 0, 0, 0], [0, 20, 0, 0], [0, 0, 20, 0], [0, 0, 0, 20]])"
   ]
  },
  {
   "cell_type": "code",
   "execution_count": 133,
   "metadata": {
    "scrolled": false
   },
   "outputs": [
    {
     "name": "stdout",
     "output_type": "stream",
     "text": [
      "164.50653288875037\n"
     ]
    }
   ],
   "source": [
    "# Генерация зашумленного сенсора\n",
    "istina = np.empty(N)\n",
    "istina[0] = 0\n",
    "y = np.empty(N)\n",
    "t[0] = 0\n",
    "y[0] = h(x_0)\n",
    "x_i = x_0\n",
    "x_ist = x_0\n",
    "for i in range(1, N):\n",
    "    t[i] = dt * i\n",
    "    \n",
    "    # Для построения настоящих значений сенсора\n",
    "    x_k_1 = np.array(f(x_i, t[i] - t[i-1])) + np.array(G) * np.random.normal(0, Q) # + с возмущением системы\n",
    "    x_i = x_k_1[0]\n",
    "    y[i] = h(x_i) + np.random.normal(0, R) # c шумом от сенсора\n",
    "    \n",
    "    \n",
    "    # Для построения истинных значений сенсора\n",
    "    x_istina = np.array(f(x_ist, t[i] - t[i-1]))\n",
    "    x_ist = x_istina[0]\n",
    "    istina[i] = h(np.array(f(x_ist, t[i] - t[i-1]))[0])\n",
    "\n",
    "    \n",
    "r__ = np.empty(len(istina))\n",
    "for i in range(len(istina)):\n",
    "    r__[i] = abs(istina[i] - y[i])\n",
    "print(max(r__))"
   ]
  },
  {
   "cell_type": "markdown",
   "metadata": {},
   "source": [
    "## Расширенный фильтр Калмана"
   ]
  },
  {
   "cell_type": "code",
   "execution_count": 134,
   "metadata": {},
   "outputs": [],
   "source": [
    "def predict(f, df, t, x_k, P_k, G_k = np.matrix([[0]]), Q_k = np.matrix([[0]])):\n",
    "    x_k_1 = f(x_k, t)\n",
    "    P_k_1 = df(x_k, t).dot(P_k).dot(df(x_k, t).T) + (G_k.dot(Q_k)).dot(G_k) \n",
    "    return x_k_1, P_k_1\n",
    "    \n",
    "def update(x_k, z_k_1, h, P_k, dH, R_k_1 = np.matrix([[0]])):\n",
    "    Kk_1 = P_k * dH(x_k).T * np.linalg.inv(dH(x_k)*P_k*dH(x_k).T + R_k_1)\n",
    "    P_k_1 = (np.diag(np.ones(len(x_k))) - Kk_1 * dH(x_k)) * P_k    \n",
    "    x_k_1 = x_k.T + Kk_1 * (z_k_1 - h(np.array(x_k)[0]))\n",
    "    return x_k_1, P_k_1\n",
    "\n",
    "x = x_0\n",
    "P = P_0\n",
    "\n",
    "filterMassive[0] = x_0\n",
    "\n",
    "for i in range(1, N):\n",
    "    x_k, P_k = predict(f, df, t[i] - t[i-1], x, P)\n",
    "    x_1, P_1 = update(x_k, y[i], h, P_k, dh, R)\n",
    "   \n",
    "    x = np.array(x_1).T[0]\n",
    "    P = P_1\n",
    "    filterMassive[i] = np.array(x_1).T[0]\n",
    "\n",
    "    \n",
    "filt_y = []\n",
    "filt_y.append(h(np.array(f(x_0, t[1] - t[0]))[0]))\n",
    "for i in range(1, N):\n",
    "    filt_y.append(h(np.array(f(filterMassive[i], t[i] - t[i-1]))[0]))\n",
    "    "
   ]
  },
  {
   "cell_type": "markdown",
   "metadata": {},
   "source": [
    "# Results"
   ]
  },
  {
   "cell_type": "code",
   "execution_count": 135,
   "metadata": {},
   "outputs": [
    {
     "data": {
      "text/plain": [
       "[<matplotlib.lines.Line2D at 0x21e4ab98df0>]"
      ]
     },
     "execution_count": 135,
     "metadata": {},
     "output_type": "execute_result"
    },
    {
     "data": {
      "image/png": "[encoded data removed]",
      "text/plain": [
       "<Figure size 432x288 with 1 Axes>"
      ]
     },
     "metadata": {
      "needs_background": "light"
     },
     "output_type": "display_data"
    }
   ],
   "source": [
    "import matplotlib.pyplot as plt\n",
    "fig, ax = plt.subplots()\n",
    "\n",
    "filtr = np.empty(N)\n",
    "for i in range(N):\n",
    "    filtr[i] = filt_y[i][0]\n",
    "    \n",
    "plt.grid()\n",
    "plt.plot(t, filtr - y)"
   ]
  },
  {
   "cell_type": "code",
   "execution_count": 136,
   "metadata": {},
   "outputs": [
    {
     "data": {
      "text/plain": [
       "[<matplotlib.lines.Line2D at 0x21e4abf8a60>]"
      ]
     },
     "execution_count": 136,
     "metadata": {},
     "output_type": "execute_result"
    },
    {
     "data": {
      "image/png": "[encoded data removed]",
      "text/plain": [
       "<Figure size 432x288 with 1 Axes>"
      ]
     },
     "metadata": {
      "needs_background": "light"
     },
     "output_type": "display_data"
    }
   ],
   "source": [
    "plt.grid()\n",
    "plt.plot(t, istina)"
   ]
  },
  {
   "cell_type": "code",
   "execution_count": 137,
   "metadata": {},
   "outputs": [
    {
     "data": {
      "image/png": "[encoded data removed]",
      "text/plain": [
       "<Figure size 432x288 with 1 Axes>"
      ]
     },
     "metadata": {
      "needs_background": "light"
     },
     "output_type": "display_data"
    }
   ],
   "source": [
    "fig, ax = plt.subplots()\n",
    "plt.grid()\n",
    "plt.plot(t, filtr, label='Filter signal')\n",
    "plt.plot(t, y, label='signal')\n",
    "plt.plot(t, istina, label='real value')\n",
    "ax.legend()\n",
    "plt.show()"
   ]
  },
  {
   "cell_type": "code",
   "execution_count": 138,
   "metadata": {
    "scrolled": true
   },
   "outputs": [
    {
     "name": "stdout",
     "output_type": "stream",
     "text": [
      "102.28358752252015 35.22088516927304\n"
     ]
    }
   ],
   "source": [
    "print((abs(y-istina)).mean(), (abs(filtr-istina)).mean())"
   ]
  },
  {
   "cell_type": "code",
   "execution_count": null,
   "metadata": {},
   "outputs": [],
   "source": []
  },
  {
   "cell_type": "code",
   "execution_count": null,
   "metadata": {},
   "outputs": [],
   "source": []
  }
 ],
 "metadata": {
  "kernelspec": {
   "display_name": "Python 3",
   "language": "python",
   "name": "python3"
  },
  "language_info": {
   "codemirror_mode": {
    "name": "ipython",
    "version": 3
   },
   "file_extension": ".py",
   "mimetype": "text/x-python",
   "name": "python",
   "nbconvert_exporter": "python",
   "pygments_lexer": "ipython3",
   "version": "3.8.3"
  }
 },
 "nbformat": 4,
 "nbformat_minor": 4
}
